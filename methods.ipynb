{
 "cells": [
  {
   "cell_type": "code",
   "execution_count": null,
   "metadata": {},
   "outputs": [],
   "source": [
    "def threshold_adapted(img):\n",
    "    blk_size = 9        # 블럭 사이즈\n",
    "    C = 5               # 차감 상수 \n",
    "\n",
    "    # --- CUSTOM THRESHHOLD\n",
    "    ret, th0 = cv2.threshold(img, 127, 255, cv2.THRESH_BINARY)\n",
    "    \n",
    "    # ---① 오츠의 알고리즘으로 단일 경계 값을 전체 이미지에 적용\n",
    "    ret, th1 = cv2.threshold(img, 0, 255, cv2.THRESH_BINARY | cv2.THRESH_OTSU)\n",
    "\n",
    "    # ---② 어뎁티드 쓰레시홀드를 평균과 가우시안 분포로 각각 적용\n",
    "    th2 = cv2.adaptiveThreshold(img, 255, cv2.ADAPTIVE_THRESH_MEAN_C,cv2.THRESH_BINARY, blk_size, C)\n",
    "    th3 = cv2.adaptiveThreshold(img, 255, cv2.ADAPTIVE_THRESH_GAUSSIAN_C, cv2.THRESH_BINARY, blk_size, C)\n",
    "\n",
    "    # ---③ 결과를 Matplot으로 출력\n",
    "    imgs = {'Custom-Threshold':th0,'Global-Otsu:%d'%ret:th1,'Adapted-Mean':th2, 'Adapted-Gaussian': th3}\n",
    "    \n",
    "    for i, (k, v) in enumerate(imgs.items()):\n",
    "        plt.subplot(2,2,i+1)\n",
    "        plt.title(k)\n",
    "        plt.imshow(v,'gray')\n",
    "        plt.xticks([]),plt.yticks([])\n",
    "    plt.show()\n",
    "    \n",
    "    # th0 or th1 works best with cv2.HOGDescriptor_getDefaultPeopleDetector()\n",
    "    return th1"
   ]
  },
  {
   "cell_type": "code",
   "execution_count": null,
   "metadata": {},
   "outputs": [],
   "source": [
    "# find white pixel with otsu\n",
    "    white_pixels = cv2.findNonZero(preprocessed)\n",
    "    print(white_pixels)\n",
    "\n",
    "    # Find the minimum and maximum x, y values\n",
    "    x1, y1 = np.min(white_pixels, axis=0)[0]\n",
    "    x2, y2 = np.max(white_pixels, axis=0)[0]\n",
    "    conf = 1\n",
    "    predictions.append([conf,x1,y1,x2-x1,y2-y1])"
   ]
  },
  {
   "cell_type": "code",
   "execution_count": null,
   "metadata": {},
   "outputs": [],
   "source": [
    "contours, hier = cv2.findContours(preprocessed, cv2.RETR_EXTERNAL, cv2.CHAIN_APPROX_SIMPLE)\n",
    "\n",
    "        # Iterate through the contours and find the bounding box for each\n",
    "        for contour in contours:\n",
    "            x, y, w, h = cv2.boundingRect(contour)\n",
    "            predictions.append([0.5,x,y,w,h])\n",
    "\n",
    "# white pixel detection -> noise fucking alot"
   ]
  }
 ],
 "metadata": {
  "language_info": {
   "name": "python"
  }
 },
 "nbformat": 4,
 "nbformat_minor": 2
}
