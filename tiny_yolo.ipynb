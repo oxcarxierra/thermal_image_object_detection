{
 "cells": [
  {
   "cell_type": "code",
   "execution_count": 2,
   "metadata": {},
   "outputs": [
    {
     "name": "stdout",
     "output_type": "stream",
     "text": [
      "\u001b[31mERROR: Could not find a version that satisfies the requirement torch (from versions: none)\u001b[0m\u001b[31m\n",
      "\u001b[0m\u001b[31mERROR: No matching distribution found for torch\u001b[0m\u001b[31m\n",
      "\u001b[0m"
     ]
    }
   ],
   "source": [
    "!pip3 install torch"
   ]
  },
  {
   "cell_type": "code",
   "execution_count": 3,
   "metadata": {},
   "outputs": [],
   "source": [
    "import cv2\n",
    "# import torch\n",
    "# import torch.nn as nn\n",
    "import numpy as np\n",
    "import matplotlib.pyplot as plt \n",
    "# from dataset import MyDataset"
   ]
  },
  {
   "cell_type": "code",
   "execution_count": 12,
   "metadata": {},
   "outputs": [],
   "source": [
    "\n",
    "\n",
    "class MyModel(torch.nn):\n",
    "    def __init__(self):\n",
    "        super(MyModel, self).__init__()\n",
    "        # define necessary initial schemes here. E.g. hyperparameters/model loading etc..  \n",
    "        \n",
    "\n",
    "    def forward(self, image):\n",
    "        self.YOLO_net = cv2.dnn.readNet(\"./yolov3-tiny_obj_last.weights\",\"./yolov3-tiny.cfg\")\n",
    "        \n",
    "        # YOLO NETWORK 재구성\n",
    "        layer_names = self.YOLO_net.getLayerNames()\n",
    "\n",
    "        output_layers = [layer_names[i[0] - 1] for i in self.YOLO_net.getUnconnectedOutLayers()]\n",
    "        print(self.YOLO_net.getUnconnectedOutLayers())\n",
    "\n",
    "        predictions=[]\n",
    "        # image = input image with dimension H x W (2 dimensional)\n",
    "        # Prediction format must be written in prediction = [confidence, x1, y1, x2, y2]\n",
    "        h, w = image.shape\n",
    "\n",
    "        blob = cv2.dnn.blobFromImage(image, 0.00392, (416, 416), (0, 0, 0), True, crop=False)\n",
    "        self.YOLO_net.setInput(blob)\n",
    "        outs = self.YOLO_net.forward(self.output_layers)\n",
    "\n",
    "        confidences = []\n",
    "        boxes = []\n",
    "\n",
    "        for out in outs:\n",
    "            for detection in out:\n",
    "                scores = detection[5:]\n",
    "                class_id = np.argmax(scores)\n",
    "                confidence = scores[class_id]\n",
    "\n",
    "                # 검출 신뢰도\n",
    "                if confidence > 0.5:\n",
    "                    # Object detected\n",
    "                # 검출기의 경계상자 좌표는 0 ~ 1로 정규화되어있으므로 다시 전처리  \n",
    "                    center_x = int(detection[0] * w)\n",
    "                    center_y = int(detection[1] * h)\n",
    "                    dw = int(detection[2] * w)\n",
    "                    dh = int(detection[3] * h)\n",
    "                    # Rectangle coordinate\n",
    "                    x = int(center_x - dw / 2)\n",
    "                    y = int(center_y - dh / 2)\n",
    "                    boxes.append([x, y, dw, dh])\n",
    "                    confidences.append(float(confidence))\n",
    "\n",
    "        indexes = cv2.dnn.NMSBoxes(boxes, confidences, 0.45, 0.4)\n",
    "\n",
    "        for i in range(len(boxes)):\n",
    "            if i in indexes:\n",
    "                x, y, w, h = boxes[i]\n",
    "                score = confidences[i]\n",
    "                predictions.append([score,x,y,w,h])\n",
    "\n",
    "        return predictions"
   ]
  },
  {
   "cell_type": "code",
   "execution_count": 13,
   "metadata": {},
   "outputs": [
    {
     "name": "stderr",
     "output_type": "stream",
     "text": [
      "[ WARN:0@5036.582] global loadsave.cpp:248 findDecoder imread_('./test_data/test.jpg'): can't open/read file: check file path/integrity\n"
     ]
    },
    {
     "ename": "TypeError",
     "evalue": "'MyModel' object is not callable",
     "output_type": "error",
     "traceback": [
      "\u001b[0;31m---------------------------------------------------------------------------\u001b[0m",
      "\u001b[0;31mTypeError\u001b[0m                                 Traceback (most recent call last)",
      "\u001b[1;32m/home/jeongwoo/dev/object_detection/tiny_yolo.ipynb Cell 4\u001b[0m line \u001b[0;36m3\n\u001b[1;32m     <a href='vscode-notebook-cell:/home/jeongwoo/dev/object_detection/tiny_yolo.ipynb#W2sZmlsZQ%3D%3D?line=27'>28</a>\u001b[0m     \u001b[39m# plt_show()\u001b[39;00m\n\u001b[1;32m     <a href='vscode-notebook-cell:/home/jeongwoo/dev/object_detection/tiny_yolo.ipynb#W2sZmlsZQ%3D%3D?line=30'>31</a>\u001b[0m \u001b[39mif\u001b[39;00m \u001b[39m__name__\u001b[39m \u001b[39m==\u001b[39m \u001b[39m\"\u001b[39m\u001b[39m__main__\u001b[39m\u001b[39m\"\u001b[39m:\n\u001b[0;32m---> <a href='vscode-notebook-cell:/home/jeongwoo/dev/object_detection/tiny_yolo.ipynb#W2sZmlsZQ%3D%3D?line=31'>32</a>\u001b[0m     main()\n\u001b[1;32m     <a href='vscode-notebook-cell:/home/jeongwoo/dev/object_detection/tiny_yolo.ipynb#W2sZmlsZQ%3D%3D?line=33'>34</a>\u001b[0m main()\n",
      "\u001b[1;32m/home/jeongwoo/dev/object_detection/tiny_yolo.ipynb Cell 4\u001b[0m line \u001b[0;36m7\n\u001b[1;32m      <a href='vscode-notebook-cell:/home/jeongwoo/dev/object_detection/tiny_yolo.ipynb#W2sZmlsZQ%3D%3D?line=4'>5</a>\u001b[0m test_img \u001b[39m=\u001b[39m cv2\u001b[39m.\u001b[39mimread(\u001b[39m'\u001b[39m\u001b[39m./test_data/test.jpg\u001b[39m\u001b[39m'\u001b[39m,\u001b[39m-\u001b[39m\u001b[39m1\u001b[39m)\n\u001b[1;32m      <a href='vscode-notebook-cell:/home/jeongwoo/dev/object_detection/tiny_yolo.ipynb#W2sZmlsZQ%3D%3D?line=5'>6</a>\u001b[0m \u001b[39m#test_img = cv2.cvtColor(test_img, cv2.COLOR_GRAY2BGR)\u001b[39;00m\n\u001b[0;32m----> <a href='vscode-notebook-cell:/home/jeongwoo/dev/object_detection/tiny_yolo.ipynb#W2sZmlsZQ%3D%3D?line=6'>7</a>\u001b[0m predictions \u001b[39m=\u001b[39m model(test_img)\n\u001b[1;32m      <a href='vscode-notebook-cell:/home/jeongwoo/dev/object_detection/tiny_yolo.ipynb#W2sZmlsZQ%3D%3D?line=8'>9</a>\u001b[0m \u001b[39m#print('predictions are=', predictions)\u001b[39;00m\n\u001b[1;32m     <a href='vscode-notebook-cell:/home/jeongwoo/dev/object_detection/tiny_yolo.ipynb#W2sZmlsZQ%3D%3D?line=9'>10</a>\u001b[0m \u001b[39m# Convert image to RGB for displaying\u001b[39;00m\n\u001b[1;32m     <a href='vscode-notebook-cell:/home/jeongwoo/dev/object_detection/tiny_yolo.ipynb#W2sZmlsZQ%3D%3D?line=10'>11</a>\u001b[0m \u001b[39mif\u001b[39;00m \u001b[39mlen\u001b[39m(test_img\u001b[39m.\u001b[39mshape) \u001b[39m==\u001b[39m \u001b[39m2\u001b[39m:  \u001b[39m# If grayscale\u001b[39;00m\n",
      "\u001b[0;31mTypeError\u001b[0m: 'MyModel' object is not callable"
     ]
    }
   ],
   "source": [
    "def main():\n",
    "    # For sanity checking model on test image. \n",
    "    \n",
    "    model = MyModel()\n",
    "    test_img = cv2.imread('./test_data/test.jpg',-1)\n",
    "    #test_img = cv2.cvtColor(test_img, cv2.COLOR_GRAY2BGR)\n",
    "    predictions = model(test_img)\n",
    "    \n",
    "    #print('predictions are=', predictions)\n",
    "    # Convert image to RGB for displaying\n",
    "    if len(test_img.shape) == 2:  # If grayscale\n",
    "        test_img = cv2.cvtColor(test_img, cv2.COLOR_GRAY2BGR)\n",
    "    elif test_img.shape[2] == 1:  # If single channel\n",
    "        test_img = cv2.cvtColor(test_img, cv2.COLOR_GRAY2BGR)\n",
    "\n",
    "    # Draw the bounding boxes and confidence on the image\n",
    "    for prediction in predictions:\n",
    "        confidence, x, y, w, h = prediction  # Unpack the tuple\n",
    "        print('predictions are=', x,y,w+x, h+y)\n",
    "        if confidence > 0:\n",
    "            test_img = cv2.rectangle(test_img, (x, y), (x + w, y + h), (0, 255, 0), 2)\n",
    "            cv2.putText(test_img, f'Conf: {confidence:.2f}', (x, y - 10), cv2.FONT_HERSHEY_SIMPLEX, 0.3, (0, 255, 0), 1)\n",
    "\n",
    "    # Convert BGR image to RGB for plotting\n",
    "    test_img_rgb = cv2.cvtColor(test_img, cv2.COLOR_BGR2RGB)\n",
    "    plt.imshow(test_img_rgb)\n",
    "    plt.axis('off')  # Hide axis\n",
    "    # plt_show()\n",
    "\n",
    "\n",
    "if __name__ == \"__main__\":\n",
    "    main()\n",
    "\n",
    "main()"
   ]
  },
  {
   "cell_type": "code",
   "execution_count": null,
   "metadata": {},
   "outputs": [],
   "source": []
  }
 ],
 "metadata": {
  "kernelspec": {
   "display_name": "ml",
   "language": "python",
   "name": "python3"
  },
  "language_info": {
   "codemirror_mode": {
    "name": "ipython",
    "version": 3
   },
   "file_extension": ".py",
   "mimetype": "text/x-python",
   "name": "python",
   "nbconvert_exporter": "python",
   "pygments_lexer": "ipython3",
   "version": "3.12.0"
  }
 },
 "nbformat": 4,
 "nbformat_minor": 2
}
